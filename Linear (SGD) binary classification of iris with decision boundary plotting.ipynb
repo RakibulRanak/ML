{
 "cells": [
  {
   "cell_type": "code",
   "execution_count": 33,
   "metadata": {},
   "outputs": [],
   "source": [
    "import sklearn\n",
    "from sklearn import datasets\n",
    "\n",
    "iris = datasets.load_iris()\n",
    "X_temp = iris.data\n",
    "y_temp = iris.target\n",
    "from sklearn.model_selection import train_test_split\n",
    "from sklearn import preprocessing\n",
    "\n",
    "# শুধুমাত্র প্রথম দুটো অ্যাট্রিবিউট নিয়ে আমাদের ডেটাসেট \n",
    "X, y = X_temp[:, [0,1]], y_temp\n",
    "# আমাদের টেস্টসেট হবে ২৫%, দৈবচয়নের ভিত্তিতে \n",
    "X_train, X_test, y_train, y_test = train_test_split(X, y, test_size=0.25, random_state=33)\n",
    "    \n",
    "# ফিচারগুলোকে স্ট্যান্ডার্ডাইজ করছি এখানে \n",
    "scaler = preprocessing.StandardScaler().fit(X_train)\n",
    "X_train = scaler.transform(X_train)\n",
    "X_test = scaler.transform(X_test)"
   ]
  },
  {
   "cell_type": "code",
   "execution_count": 34,
   "metadata": {},
   "outputs": [
    {
     "name": "stdout",
     "output_type": "stream",
     "text": [
      "New training target classes:\n",
      "[1 0 1 1 1 0 0 1 0 1 0 0 1 1 0 1 1 1 1 1 0 0 1 0 0 1 1 1 1 1 1 1 0 0 1 1 0\n",
      " 1 1 1 1 0 1 0 1 0 1 1 0 1 1 0 0 1 0 0 0 1 1 0 1 0 1 0 1 1 1 1 1 0 1 0 1 1\n",
      " 0 0 0 0 1 1 0 1 1 1 1 0 0 1 1 1 0 1 1 0 1 1 1 1 1 0 1 0 0 0 1 1 1 1 1 1 1\n",
      " 0]\n"
     ]
    }
   ],
   "source": [
    "import copy \n",
    "y_train_setosa = copy.copy(y_train) \n",
    "# আমাদের ট্রেনিংসেটের ১ এবং ২ ক্লাসকে ১ বানিয়ে ফেলছি \n",
    "y_train_setosa[y_train_setosa > 0]=1\n",
    "y_test_setosa = copy.copy(y_test)\n",
    "y_test_setosa[y_test_setosa > 0]=1\n",
    "# এখন দেখি ট্রেনিং টার্গেট ক্লাসগুলো কী কী?\n",
    "print ('New training target classes:\\n{0}'.format(y_train_setosa))"
   ]
  },
  {
   "cell_type": "code",
   "execution_count": 35,
   "metadata": {},
   "outputs": [
    {
     "name": "stdout",
     "output_type": "stream",
     "text": [
      "[ 21.76180378 -10.51985219] 13.907630261760772\n"
     ]
    }
   ],
   "source": [
    "from sklearn import linear_model \n",
    "clf = linear_model.SGDClassifier(loss='log', random_state=42)\n",
    "\n",
    "clf.fit(X_train, y_train_setosa)\n",
    "\n",
    "print (clf.coef_[0],clf.intercept_[0])"
   ]
  },
  {
   "cell_type": "code",
   "execution_count": 39,
   "metadata": {},
   "outputs": [
    {
     "data": {
      "text/plain": [
       "[<matplotlib.lines.Line2D at 0x7f80145305d0>]"
      ]
     },
     "execution_count": 39,
     "metadata": {},
     "output_type": "execute_result"
    },
    {
     "data": {
      "image/png": "[encoded data removed]",
      "text/plain": [
       "<Figure size 432x288 with 1 Axes>"
      ]
     },
     "metadata": {
      "needs_background": "light"
     },
     "output_type": "display_data"
    }
   ],
   "source": [
    "import numpy as np\n",
    "x_min, x_max = X_train[:, 0].min() - .5, X_train[:, 0].max() + .5\n",
    "y_min, y_max = X_train[:, 1].min() - .5, X_train[:, 1].max() + .5\n",
    "xs = np.arange(x_min, x_max, 0.5)\n",
    "\n",
    "#https://www.youtube.com/watch?v=81ZGOib7DTk\n",
    "\n",
    "m = -clf.coef_[0][0]/clf.coef_[0][1];\n",
    "c = -clf.intercept_[0]/clf.coef_[0][1];\n",
    "\n",
    "ys = m*xs + c;\n",
    "\n",
    "#ys = (-clf.intercept_[0]- xs * clf.coef_[0, 0]) / clf.coef_[0, 1] #shortcut,mukhosto!!!\n",
    "import matplotlib.pyplot as plt\n",
    "\n",
    "fig,axes = plt.subplots()\n",
    "\n",
    "#axes.set_aspect('equal')\n",
    "axes.set_title('Setosa species classification')\n",
    "axes.set_xlabel('Sepal length')\n",
    "axes.set_ylabel('Sepal width')\n",
    "axes.set_xlim(x_min, x_max)\n",
    "axes.set_ylim(y_min, y_max)\n",
    "\n",
    "#plt.sca(axes)\n",
    "\n",
    "plt.scatter(X_train[:, 0][y_train == 0], X_train[:, 1][y_train == 0], c='red', marker='s')\n",
    "plt.scatter(X_train[:, 0][y_train == 1], X_train[:, 1][y_train == 1], c='black', marker='x')\n",
    "plt.plot(xs,ys,'k-',c='blue')\n",
    "\n",
    "\n"
   ]
  },
  {
   "cell_type": "code",
   "execution_count": 40,
   "metadata": {},
   "outputs": [
    {
     "name": "stdout",
     "output_type": "stream",
     "text": [
      "If the flower has 4.6 petal width and 3.2 petal length is a ['setosa']\n"
     ]
    }
   ],
   "source": [
    "#prediction\n",
    "print ('If the flower has 4.6 petal width and 3.2 petal length is a {}'.format(\n",
    "        iris.target_names[clf.predict(scaler.transform([[4.6, 3.2]]))]))"
   ]
  },
  {
   "cell_type": "code",
   "execution_count": null,
   "metadata": {},
   "outputs": [],
   "source": []
  }
 ],
 "metadata": {
  "kernelspec": {
   "display_name": "Python 3",
   "language": "python",
   "name": "python3"
  },
  "language_info": {
   "codemirror_mode": {
    "name": "ipython",
    "version": 3
   },
   "file_extension": ".py",
   "mimetype": "text/x-python",
   "name": "python",
   "nbconvert_exporter": "python",
   "pygments_lexer": "ipython3",
   "version": "3.7.6"
  }
 },
 "nbformat": 4,
 "nbformat_minor": 4
}
