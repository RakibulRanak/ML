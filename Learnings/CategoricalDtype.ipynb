{
 "cells": [
  {
   "cell_type": "code",
   "execution_count": 31,
   "metadata": {},
   "outputs": [
    {
     "name": "stdout",
     "output_type": "stream",
     "text": [
      "     Name  Division    Area Grade  Class  Marks\n",
      "0   Rakib   Science   Dhaka    A+      8     86\n",
      "1  Shakib  Commerce     nan    A-     10     64\n",
      "2   Ranak      Arts  Sylhet     A      7     76\n",
      "0    A+\n",
      "1    A-\n",
      "2     A\n",
      "Name: Grade, dtype: object\n",
      "<class 'pandas.core.frame.DataFrame'>\n",
      "RangeIndex: 3 entries, 0 to 2\n",
      "Data columns (total 6 columns):\n",
      " #   Column    Non-Null Count  Dtype \n",
      "---  ------    --------------  ----- \n",
      " 0   Name      3 non-null      object\n",
      " 1   Division  3 non-null      object\n",
      " 2   Area      3 non-null      object\n",
      " 3   Grade     3 non-null      object\n",
      " 4   Class     3 non-null      int64 \n",
      " 5   Marks     3 non-null      int64 \n",
      "dtypes: int64(2), object(4)\n",
      "memory usage: 272.0+ bytes\n"
     ]
    }
   ],
   "source": [
    "from pandas.api.types import CategoricalDtype\n",
    "import pandas as pd\n",
    "from numpy import nan\n",
    "\n",
    "df = pd.DataFrame(\n",
    "        {\n",
    "            'Name':['Rakib','Shakib','Ranak'],\n",
    "            'Division':['Science','Commerce','Arts'],\n",
    "            'Area':['Dhaka','nan','Sylhet'],\n",
    "            'Grade':['A+','A-','A'],\n",
    "            'Class':[8,10,7],\n",
    "            'Marks':[86,64,76]\n",
    "        }\n",
    "    )\n",
    "print(df)\n",
    "print(df['Grade'])\n",
    "df.info()"
   ]
  },
  {
   "cell_type": "code",
   "execution_count": 32,
   "metadata": {},
   "outputs": [],
   "source": [
    "ordered_levels={\n",
    "    'Class':[7,8,10],\n",
    "    'Grade':['A-','A','A+']\n",
    "}\n",
    "\n",
    "# Ordinal categories\n",
    "for name, levels in ordered_levels.items():\n",
    "    df[name] = df[name].astype(CategoricalDtype(levels,\n",
    "                                                    ordered=True))"
   ]
  },
  {
   "cell_type": "code",
   "execution_count": 33,
   "metadata": {},
   "outputs": [
    {
     "name": "stdout",
     "output_type": "stream",
     "text": [
      "<class 'pandas.core.frame.DataFrame'>\n",
      "RangeIndex: 3 entries, 0 to 2\n",
      "Data columns (total 6 columns):\n",
      " #   Column    Non-Null Count  Dtype   \n",
      "---  ------    --------------  -----   \n",
      " 0   Name      3 non-null      object  \n",
      " 1   Division  3 non-null      object  \n",
      " 2   Area      3 non-null      object  \n",
      " 3   Grade     3 non-null      category\n",
      " 4   Class     3 non-null      category\n",
      " 5   Marks     3 non-null      int64   \n",
      "dtypes: category(2), int64(1), object(3)\n",
      "memory usage: 438.0+ bytes\n"
     ]
    }
   ],
   "source": [
    "df.info()"
   ]
  },
  {
   "cell_type": "code",
   "execution_count": 34,
   "metadata": {},
   "outputs": [
    {
     "data": {
      "text/plain": [
       "0    A+\n",
       "1    A-\n",
       "2     A\n",
       "Name: Grade, dtype: category\n",
       "Categories (3, object): [A- < A < A+]"
      ]
     },
     "execution_count": 34,
     "metadata": {},
     "output_type": "execute_result"
    }
   ],
   "source": [
    "df['Grade']"
   ]
  },
  {
   "cell_type": "markdown",
   "metadata": {},
   "source": [
    "## So this time A- < A < A+ is showing sorted, because we formated the \n",
    "## column as categoricalDtype(ordered=true)\n",
    "## this is how my program knows which category is precous than others"
   ]
  },
  {
   "cell_type": "code",
   "execution_count": 35,
   "metadata": {},
   "outputs": [
    {
     "data": {
      "text/plain": [
       "0     8\n",
       "1    10\n",
       "2     7\n",
       "Name: Class, dtype: category\n",
       "Categories (3, int64): [7 < 8 < 10]"
      ]
     },
     "execution_count": 35,
     "metadata": {},
     "output_type": "execute_result"
    }
   ],
   "source": [
    "df['Class']"
   ]
  },
  {
   "cell_type": "code",
   "execution_count": 36,
   "metadata": {},
   "outputs": [],
   "source": [
    "# Name is also nominal(of no use),\n",
    "# Division and Area are also nominal without order\n",
    "# but both are categorical,  name is not necessary at all\n",
    "features_nom = ['Name','Division','Area']\n",
    "for name in features_nom:\n",
    "    df[name] = df[name].astype(\"category\")\n",
    "    # Add a None category for missing values\n",
    "    if \"None\" not in df[name].cat.categories:\n",
    "        df[name].cat.add_categories(\"None\", inplace=True)"
   ]
  },
  {
   "cell_type": "code",
   "execution_count": 37,
   "metadata": {},
   "outputs": [
    {
     "data": {
      "text/plain": [
       "0     Dhaka\n",
       "1       nan\n",
       "2    Sylhet\n",
       "Name: Area, dtype: category\n",
       "Categories (4, object): [Dhaka, Sylhet, nan, None]"
      ]
     },
     "execution_count": 37,
     "metadata": {},
     "output_type": "execute_result"
    }
   ],
   "source": [
    "df['Area']"
   ]
  },
  {
   "cell_type": "code",
   "execution_count": 38,
   "metadata": {},
   "outputs": [],
   "source": [
    "# you can see the above, that output is Categories (4, object): [Dhaka, Sylhet, nan, None], but not sorted"
   ]
  },
  {
   "cell_type": "code",
   "execution_count": null,
   "metadata": {},
   "outputs": [],
   "source": []
  }
 ],
 "metadata": {
  "kernelspec": {
   "display_name": "Python 3",
   "language": "python",
   "name": "python3"
  },
  "language_info": {
   "codemirror_mode": {
    "name": "ipython",
    "version": 3
   },
   "file_extension": ".py",
   "mimetype": "text/x-python",
   "name": "python",
   "nbconvert_exporter": "python",
   "pygments_lexer": "ipython3",
   "version": "3.7.6"
  }
 },
 "nbformat": 4,
 "nbformat_minor": 4
}
