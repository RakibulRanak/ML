{
 "cells": [
  {
   "cell_type": "markdown",
   "metadata": {},
   "source": [
    "# 1. dataframe\n",
    "# loc (can get boolen array also , loc[boolean array] , iloc get only index)\n",
    "## dataset.loc[(dataset['Age'] > 16) & (dataset['Age'] <= 26), 'Section'] = 1\n",
    " ->dataset dataframe er jsokol row er 'Age' column er value 16 er beshi and 26 ba tar kom\n",
    " shei row gular 'Section'column er value 1 set koro!\n",
    " # fillna\n",
    " ## dataset['Embarked'].fillna('S',inplace=True)\n",
    " -> fillna() function is used to fill NA/NaN values.\n",
    " \n",
    " -> Parameter values >>> scalar, dict, Series, or DataFrame\n",
    " \n",
    " -> dataset dataframe er jsokol row er 'Embarked' coloumn e data nai sesob row er 'Embarked' coloumn\n",
    " 'S' value diye fill koro\n",
    " \n",
    "  ->inplace = true modifies the object as  dataset['Embarked'] = dataset['Embarked'].fillna('S')\n",
    "  \n",
    "  ## train[\"Fare\"].fillna(train.groupby(\"Pclass\")[\"Fare\"].transform(\"median\"), inplace=True)\n",
    "  \n",
    "  -> Here, fillna(series)\n",
    "  \n",
    "  -> train.groupby(\"Pclass\")[\"Fare\"] is a group of  different series based on 'Pclass' containing only \n",
    "     'Fare' Column created from train dataframe\n",
    "  \n",
    "  -> train.groupby(\"Pclass\")[\"Fare\"].transform(\"median\") -> here transform method again combines all the\n",
    "    series in a single series in which 'Fare' column is transformed by the median of each series. \n",
    " \n",
    " # 2. Pandas series\n",
    " ## https://www.geeksforgeeks.org/python-pandas-series/\n",
    " ## series is like an one dimensinal array whose index can be anything like map of c++\n",
    " ## Pclass1 = train[train['Pclass']==1]['Embarked'].value_counts()\n",
    " \n",
    " -> Plass1 emon ekta series{map) jetay train namok dataframe er jsokol row er 'Pclass' column er value 1 \n",
    " sesokol row er 'Embarked' column e jotogula different different value ase tader prottekta different value\n",
    " ekekta key and oi different value er total occurence oi key er value!!!\n",
    " \n",
    " # 3. Mapping\n",
    "## embarked_mapping = {\"S\": 0, \"C\": 1, \"Q\": 2}\n",
    "## dataset['Embarked'] = dataset['Embarked'].map(embarked_mapping)\n",
    "\n",
    "-> dataset dataframe er sokol row er 'Embarked' column er value embarked_mapping pair diye replace koro\n",
    "\n",
    "# 4. Preprocessing\n",
    "## student['Name']=preprocessing.LabelEncoder().fit_transform(student['Name'])\n",
    "\n",
    "-> categorial variable gula jara number na, tader k category onujayi different value set korte eta use kore\n",
    "\n",
    "-> student dataframe er Name column er different namgula k ek jatio number dia replace koro"
   ]
  },
  {
   "cell_type": "code",
   "execution_count": null,
   "metadata": {},
   "outputs": [],
   "source": []
  },
  {
   "cell_type": "code",
   "execution_count": null,
   "metadata": {},
   "outputs": [],
   "source": []
  }
 ],
 "metadata": {
  "kernelspec": {
   "display_name": "Python 3",
   "language": "python",
   "name": "python3"
  },
  "language_info": {
   "codemirror_mode": {
    "name": "ipython",
    "version": 3
   },
   "file_extension": ".py",
   "mimetype": "text/x-python",
   "name": "python",
   "nbconvert_exporter": "python",
   "pygments_lexer": "ipython3",
   "version": "3.7.6"
  }
 },
 "nbformat": 4,
 "nbformat_minor": 4
}
