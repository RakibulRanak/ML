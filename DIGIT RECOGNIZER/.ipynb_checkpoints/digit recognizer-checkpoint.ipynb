{
 "cells": [
  {
   "cell_type": "code",
   "execution_count": 1,
   "metadata": {},
   "outputs": [
    {
     "name": "stdout",
     "output_type": "stream",
     "text": [
      "(42000, 785)\n",
      "<bound method NDFrame.head of        label  pixel0  pixel1  pixel2  pixel3  pixel4  pixel5  pixel6  pixel7  \\\n",
      "0          1       0       0       0       0       0       0       0       0   \n",
      "1          0       0       0       0       0       0       0       0       0   \n",
      "2          1       0       0       0       0       0       0       0       0   \n",
      "3          4       0       0       0       0       0       0       0       0   \n",
      "4          0       0       0       0       0       0       0       0       0   \n",
      "...      ...     ...     ...     ...     ...     ...     ...     ...     ...   \n",
      "41995      0       0       0       0       0       0       0       0       0   \n",
      "41996      1       0       0       0       0       0       0       0       0   \n",
      "41997      7       0       0       0       0       0       0       0       0   \n",
      "41998      6       0       0       0       0       0       0       0       0   \n",
      "41999      9       0       0       0       0       0       0       0       0   \n",
      "\n",
      "       pixel8  ...  pixel774  pixel775  pixel776  pixel777  pixel778  \\\n",
      "0           0  ...         0         0         0         0         0   \n",
      "1           0  ...         0         0         0         0         0   \n",
      "2           0  ...         0         0         0         0         0   \n",
      "3           0  ...         0         0         0         0         0   \n",
      "4           0  ...         0         0         0         0         0   \n",
      "...       ...  ...       ...       ...       ...       ...       ...   \n",
      "41995       0  ...         0         0         0         0         0   \n",
      "41996       0  ...         0         0         0         0         0   \n",
      "41997       0  ...         0         0         0         0         0   \n",
      "41998       0  ...         0         0         0         0         0   \n",
      "41999       0  ...         0         0         0         0         0   \n",
      "\n",
      "       pixel779  pixel780  pixel781  pixel782  pixel783  \n",
      "0             0         0         0         0         0  \n",
      "1             0         0         0         0         0  \n",
      "2             0         0         0         0         0  \n",
      "3             0         0         0         0         0  \n",
      "4             0         0         0         0         0  \n",
      "...         ...       ...       ...       ...       ...  \n",
      "41995         0         0         0         0         0  \n",
      "41996         0         0         0         0         0  \n",
      "41997         0         0         0         0         0  \n",
      "41998         0         0         0         0         0  \n",
      "41999         0         0         0         0         0  \n",
      "\n",
      "[42000 rows x 785 columns]>\n"
     ]
    }
   ],
   "source": [
    "import pandas as pd\n",
    "import numpy as np\n",
    " \n",
    "X = pd.read_csv('train.csv')\n",
    "print(np.shape(X))\n",
    "# 42000 images , all are flatten to 28x28 = 784 one dimensional feature + 1 target feature = 785\n",
    "print(X.head)\n",
    "y = X.pop('label')\n",
    "\n",
    "# in this problem "
   ]
  },
  {
   "cell_type": "code",
   "execution_count": 2,
   "metadata": {},
   "outputs": [
    {
     "data": {
      "text/plain": [
       "(12600, 784)"
      ]
     },
     "execution_count": 2,
     "metadata": {},
     "output_type": "execute_result"
    }
   ],
   "source": [
    "from sklearn.model_selection import train_test_split\n",
    "X_train,X_test,y_train,y_test = train_test_split(X,y,test_size = 0.3)\n",
    "np.shape(X_test)"
   ]
  },
  {
   "cell_type": "code",
   "execution_count": null,
   "metadata": {},
   "outputs": [
    {
     "name": "stdout",
     "output_type": "stream",
     "text": [
      "0.9601666666666666 15 50\n",
      "0.9609285714285715 15 62\n",
      "0.9615238095238094 15 74\n",
      "0.9616666666666667 15 79\n",
      "0.9620476190476192 15 89\n"
     ]
    }
   ],
   "source": [
    "from sklearn.ensemble import RandomForestClassifier\n",
    "from sklearn.model_selection import KFold\n",
    "from sklearn.model_selection import cross_val_score\n",
    "k_fold = KFold(n_splits=5, shuffle=True, random_state=0)\n",
    "scoring = 'accuracy'\n",
    "best_score=0.7\n",
    "for depth in range(15,50):\n",
    "    for estimators in range(50,100):\n",
    "        clf = RandomForestClassifier(max_depth=depth,n_estimators=estimators,max_features=50)\n",
    "        score = cross_val_score(clf, X,y , cv=k_fold, n_jobs=1, scoring=scoring)\n",
    "        score = score.mean()\n",
    "        if(score>best_score):\n",
    "            print(score,depth,estimators)\n",
    "            best_score=score\n",
    "            \n",
    "        \n",
    "        \n"
   ]
  },
  {
   "cell_type": "code",
   "execution_count": 80,
   "metadata": {},
   "outputs": [
    {
     "data": {
      "text/plain": [
       "RandomForestClassifier(bootstrap=True, ccp_alpha=0.0, class_weight=None,\n",
       "                       criterion='gini', max_depth=5, max_features=3,\n",
       "                       max_leaf_nodes=None, max_samples=None,\n",
       "                       min_impurity_decrease=0.0, min_impurity_split=None,\n",
       "                       min_samples_leaf=1, min_samples_split=2,\n",
       "                       min_weight_fraction_leaf=0.0, n_estimators=10,\n",
       "                       n_jobs=None, oob_score=False, random_state=None,\n",
       "                       verbose=0, warm_start=False)"
      ]
     },
     "execution_count": 80,
     "metadata": {},
     "output_type": "execute_result"
    }
   ],
   "source": [
    "from sklearn.ensemble import RandomForestClassifier\n",
    "clf = RandomForestClassifier(max_depth=5,n_estimators=10,max_features=3)\n",
    "clf.fit(X_train,y_train)"
   ]
  },
  {
   "cell_type": "code",
   "execution_count": 81,
   "metadata": {},
   "outputs": [
    {
     "name": "stdout",
     "output_type": "stream",
     "text": [
      "[9]\n",
      "9\n",
      "(1, 784)\n",
      "(28, 28)\n"
     ]
    }
   ],
   "source": [
    "#print(np.shape(X_test.iloc[1]))\n",
    "#np.shape(np.expand_dims(X_test.iloc[1],axis=0)) # this needs to be done\n",
    "print(clf.predict(np.expand_dims(X_test.iloc[111],axis=0)))\n",
    "print(y_test.iloc[111])\n",
    "\n",
    "myimage = X_test.iloc[111:112,:].values\n",
    "#type(myimage)\n",
    "print(np.shape(myimage))\n",
    "myimage=myimage.reshape(28,28)\n",
    "print(np.shape(myimage))\n",
    "#myimage"
   ]
  },
  {
   "cell_type": "code",
   "execution_count": 82,
   "metadata": {},
   "outputs": [
    {
     "name": "stderr",
     "output_type": "stream",
     "text": [
      "/home/rakibulranak/anaconda3/lib/python3.7/site-packages/skimage/io/_plugins/matplotlib_plugin.py:150: UserWarning: Low image data range; displaying image with stretched contrast.\n",
      "  lo, hi, cmap = _get_display_range(image)\n"
     ]
    },
    {
     "data": {
      "text/plain": [
       "<matplotlib.image.AxesImage at 0x7fb4fbaea750>"
      ]
     },
     "execution_count": 82,
     "metadata": {},
     "output_type": "execute_result"
    },
    {
     "data": {
      "image/png": "[encoded data removed]",
      "text/plain": [
       "<Figure size 432x288 with 2 Axes>"
      ]
     },
     "metadata": {
      "needs_background": "light"
     },
     "output_type": "display_data"
    }
   ],
   "source": [
    "from skimage.io import imread, imshow\n",
    "imshow(myimage)"
   ]
  },
  {
   "cell_type": "code",
   "execution_count": 83,
   "metadata": {},
   "outputs": [],
   "source": [
    "from sklearn.model_selection import KFold\n",
    "from sklearn.model_selection import cross_val_score\n",
    "k_fold = KFold(n_splits=5, shuffle=True, random_state=0)\n",
    "# prediction = clf.predict(X_test)\n",
    "# prediction"
   ]
  },
  {
   "cell_type": "code",
   "execution_count": 84,
   "metadata": {},
   "outputs": [],
   "source": [
    "# k_range = list(range(5,11))\n",
    "# k_scores =[]\n",
    "# for k in k_range:\n",
    "#     clf = RandomForestClassifier(max_depth=5,n_estimators=k,max_features=3)\n",
    "#     scoring = 'accuracy'\n",
    "#     score = cross_val_score(clf, X,y , cv=k_fold, n_jobs=1, scoring=scoring)\n",
    "#     #print(score)\n",
    "#     #scores = cross_val_score(knn,X,y,cv=10,scoring='accuracy')\n",
    "#     k_scores.append(score.mean())\n",
    "# print(k_scores)\n",
    "\n",
    "# # clf = RandomForestClassifier(n_estimators=28)\n",
    "# scoring = 'accuracy'\n",
    "# score = cross_val_score(clf, X,y , cv=k_fold, n_jobs=1, scoring=scoring)\n",
    "# print(score)"
   ]
  },
  {
   "cell_type": "code",
   "execution_count": null,
   "metadata": {},
   "outputs": [],
   "source": [
    "# k_range = list(range(5,11))\n",
    "# k_scores =[]\n",
    "# for k in k_range:\n",
    "#     clf = RandomForestClassifier(max_depth=5,n_estimators=k,max_features=3)\n",
    "#     scoring = 'accuracy'\n",
    "#     score = cross_val_score(clf, X,y , cv=k_fold, n_jobs=1, scoring=scoring)\n",
    "#     #print(score)\n",
    "#     #scores = cross_val_score(knn,X,y,cv=10,scoring='accuracy')\n",
    "#     k_scores.append(score.mean())\n",
    "# print(k_scores)\n",
    "\n",
    "clf = RandomForestClassifier(max_depth=15,n_estimators=89,max_features=50)\n",
    "scoring = 'accuracy'\n",
    "score = cross_val_score(clf, X,y , cv=k_fold, n_jobs=1, scoring=scoring)\n",
    "print(score.mean())"
   ]
  },
  {
   "cell_type": "code",
   "execution_count": 74,
   "metadata": {
    "scrolled": true
   },
   "outputs": [
    {
     "name": "stdout",
     "output_type": "stream",
     "text": [
      "              precision    recall  f1-score   support\n",
      "\n",
      "           0       0.72      0.92      0.81      1208\n",
      "           1       0.59      0.99      0.74      1394\n",
      "           2       0.83      0.70      0.76      1232\n",
      "           3       0.64      0.75      0.69      1308\n",
      "           4       0.73      0.66      0.69      1211\n",
      "           5       0.94      0.24      0.39      1169\n",
      "           6       0.80      0.82      0.81      1283\n",
      "           7       0.75      0.79      0.77      1365\n",
      "           8       0.74      0.59      0.66      1197\n",
      "           9       0.68      0.58      0.62      1233\n",
      "\n",
      "    accuracy                           0.71     12600\n",
      "   macro avg       0.74      0.70      0.69     12600\n",
      "weighted avg       0.74      0.71      0.70     12600\n",
      "\n"
     ]
    }
   ],
   "source": [
    "from sklearn import metrics\n",
    "prediction = clf.predict(X_test)\n",
    "clf_report = metrics.classification_report(y_test,prediction,labels=np.unique(y_test))\n",
    "print(clf_report)"
   ]
  },
  {
   "cell_type": "code",
   "execution_count": 62,
   "metadata": {},
   "outputs": [
    {
     "data": {
      "text/plain": [
       "[array([1115,    7,    6,   16,    5,    0,   39,    3,   12,    5]),\n",
       " array([   0, 1374,    3,    4,    0,    0,    7,    0,    3,    3]),\n",
       " array([ 39, 127, 863,  81,  11,   0,  64,  12,  27,   8]),\n",
       " array([ 60,  95,  52, 978,   1,   8,  13,  35,  50,  16]),\n",
       " array([  4, 136,  20,   9, 803,   1,  56,  44,   8, 130]),\n",
       " array([189, 137,  18, 280,  37, 284,  32,  35, 110,  47]),\n",
       " array([  58,   96,   38,   13,    8,    0, 1050,    2,   14,    4]),\n",
       " array([   9,  117,   14,    7,   33,    0,   10, 1079,   11,   85]),\n",
       " array([ 66, 143,  28, 128,  33,   9,  19,  29, 706,  36]),\n",
       " array([ 10,  86,   4,  22, 169,   0,  29, 197,   7, 709])]"
      ]
     },
     "execution_count": 62,
     "metadata": {},
     "output_type": "execute_result"
    }
   ],
   "source": [
    "confusion_matrix = list(metrics.confusion_matrix(y_test,prediction))\n",
    "confusion_matrix"
   ]
  },
  {
   "cell_type": "code",
   "execution_count": 66,
   "metadata": {
    "scrolled": true
   },
   "outputs": [
    {
     "data": {
      "text/plain": [
       "<matplotlib.axes._subplots.AxesSubplot at 0x7fb4a8981490>"
      ]
     },
     "execution_count": 66,
     "metadata": {},
     "output_type": "execute_result"
    },
    {
     "data": {
      "image/png": "[encoded data removed]",
      "text/plain": [
       "<Figure size 720x504 with 2 Axes>"
      ]
     },
     "metadata": {
      "needs_background": "light"
     },
     "output_type": "display_data"
    }
   ],
   "source": [
    "import matplotlib.pyplot as plt\n",
    "import seaborn as sn\n",
    "import pandas as pd\n",
    "plt.figure(figsize=(10,7))\n",
    "sn.heatmap(confusion_matrix,annot=True,cmap='viridis')"
   ]
  },
  {
   "cell_type": "code",
   "execution_count": 75,
   "metadata": {},
   "outputs": [
    {
     "data": {
      "text/plain": [
       "array([2, 3, 7, ..., 6, 8, 4])"
      ]
     },
     "execution_count": 75,
     "metadata": {},
     "output_type": "execute_result"
    }
   ],
   "source": [
    "prediction"
   ]
  },
  {
   "cell_type": "code",
   "execution_count": 102,
   "metadata": {},
   "outputs": [
    {
     "name": "stdout",
     "output_type": "stream",
     "text": [
      "Your submission was successfully saved!\n"
     ]
    }
   ],
   "source": [
    "clf = RandomForestClassifier(max_depth=25,n_estimators=35,max_features=16)\n",
    "clf.fit(X,y)\n",
    "X_test = pd.read_csv('test.csv')\n",
    "prediction = clf.predict(X_test)\n",
    "index = list(range(1,len(X_test)+1))\n",
    "output = pd.DataFrame({'ImageId': index, 'Label': prediction})\n",
    "output.to_csv('my_submission.csv', index=False)\n",
    "print(\"Your submission was successfully saved!\")"
   ]
  },
  {
   "cell_type": "code",
   "execution_count": null,
   "metadata": {},
   "outputs": [],
   "source": [
    "## xgb\n",
    "## xgb not working yet\n",
    "from xgboost import XGBRegressor\n",
    "\n",
    "xgb_params = dict(\n",
    "    max_depth=25,           # maximum depth of each tree - try 2 to 10\n",
    "    learning_rate=0.01,    # effect of each tree - try 0.0001 to 0.1\n",
    "    n_estimators=10,     # number of trees (that is, boosting rounds) - try 1000 to 8000\n",
    "    num_parallel_tree=5,   # set > 1 for boosted random forests\n",
    ")\n",
    "\n",
    "\n",
    "xgb = XGBRegressor(**xgb_params)\n",
    "scoring = 'roc_auc'\n",
    "score = cross_val_score(\n",
    "        xgb, X, y, cv=k_fold, scoring = scoring,\n",
    "    )\n",
    "print(score.mean())\n",
    "#np.shape(np.expand_dims(y,axis=0))"
   ]
  },
  {
   "cell_type": "code",
   "execution_count": null,
   "metadata": {},
   "outputs": [],
   "source": []
  }
 ],
 "metadata": {
  "kernelspec": {
   "display_name": "Python 3",
   "language": "python",
   "name": "python3"
  },
  "language_info": {
   "codemirror_mode": {
    "name": "ipython",
    "version": 3
   },
   "file_extension": ".py",
   "mimetype": "text/x-python",
   "name": "python",
   "nbconvert_exporter": "python",
   "pygments_lexer": "ipython3",
   "version": "3.7.6"
  }
 },
 "nbformat": 4,
 "nbformat_minor": 4
}
